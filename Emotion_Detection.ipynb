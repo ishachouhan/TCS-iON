{
  "nbformat": 4,
  "nbformat_minor": 0,
  "metadata": {
    "colab": {
      "name": "Copy of Emotion_Detection.ipynb",
      "provenance": [],
      "collapsed_sections": [],
      "authorship_tag": "ABX9TyN/dzChUBrcxA/6UlhU5jRi",
      "include_colab_link": true
    },
    "kernelspec": {
      "name": "python3",
      "display_name": "Python 3"
    }
  },
  "cells": [
    {
      "cell_type": "markdown",
      "metadata": {
        "id": "view-in-github",
        "colab_type": "text"
      },
      "source": [
        "<a href=\"https://colab.research.google.com/github/ishachouhan/TCS-iON/blob/master/Emotion_Detection.ipynb\" target=\"_parent\"><img src=\"https://colab.research.google.com/assets/colab-badge.svg\" alt=\"Open In Colab\"/></a>"
      ]
    },
    {
      "cell_type": "markdown",
      "metadata": {
        "id": "LPHy3027uSvt",
        "colab_type": "text"
      },
      "source": [
        "### **Importing Libraries**\n",
        "\n",
        " import pandas as pd import numpy as np import nltk import re"
      ]
    },
    {
      "cell_type": "code",
      "metadata": {
        "id": "x-DvSGlcuj2U",
        "colab_type": "code",
        "colab": {}
      },
      "source": [
        "import pandas as pd \n",
        "import numpy as np\n",
        "import nltk \n",
        "import re"
      ],
      "execution_count": 0,
      "outputs": []
    },
    {
      "cell_type": "markdown",
      "metadata": {
        "id": "pXzCIzxSvfu5",
        "colab_type": "text"
      },
      "source": [
        "## **Load Data**"
      ]
    },
    {
      "cell_type": "code",
      "metadata": {
        "id": "PEdHYg-ivnut",
        "colab_type": "code",
        "outputId": "1e021f7e-98d0-48a7-e6ff-b53ce9b1ccb2",
        "colab": {
          "base_uri": "https://localhost:8080/",
          "height": 343
        }
      },
      "source": [
        "data = pd.read_csv('https://query.data.world/s/s32luljrfhzkccbrlx3utopmgzoz6l')\n",
        "data = data.iloc[:10,:]\n",
        "\n",
        "data"
      ],
      "execution_count": 0,
      "outputs": [
        {
          "output_type": "execute_result",
          "data": {
            "text/html": [
              "<div>\n",
              "<style scoped>\n",
              "    .dataframe tbody tr th:only-of-type {\n",
              "        vertical-align: middle;\n",
              "    }\n",
              "\n",
              "    .dataframe tbody tr th {\n",
              "        vertical-align: top;\n",
              "    }\n",
              "\n",
              "    .dataframe thead th {\n",
              "        text-align: right;\n",
              "    }\n",
              "</style>\n",
              "<table border=\"1\" class=\"dataframe\">\n",
              "  <thead>\n",
              "    <tr style=\"text-align: right;\">\n",
              "      <th></th>\n",
              "      <th>tweet_id</th>\n",
              "      <th>sentiment</th>\n",
              "      <th>author</th>\n",
              "      <th>content</th>\n",
              "    </tr>\n",
              "  </thead>\n",
              "  <tbody>\n",
              "    <tr>\n",
              "      <th>0</th>\n",
              "      <td>1956967341</td>\n",
              "      <td>empty</td>\n",
              "      <td>xoshayzers</td>\n",
              "      <td>@tiffanylue i know  i was listenin to bad habi...</td>\n",
              "    </tr>\n",
              "    <tr>\n",
              "      <th>1</th>\n",
              "      <td>1956967666</td>\n",
              "      <td>sadness</td>\n",
              "      <td>wannamama</td>\n",
              "      <td>Layin n bed with a headache  ughhhh...waitin o...</td>\n",
              "    </tr>\n",
              "    <tr>\n",
              "      <th>2</th>\n",
              "      <td>1956967696</td>\n",
              "      <td>sadness</td>\n",
              "      <td>coolfunky</td>\n",
              "      <td>Funeral ceremony...gloomy friday...</td>\n",
              "    </tr>\n",
              "    <tr>\n",
              "      <th>3</th>\n",
              "      <td>1956967789</td>\n",
              "      <td>enthusiasm</td>\n",
              "      <td>czareaquino</td>\n",
              "      <td>wants to hang out with friends SOON!</td>\n",
              "    </tr>\n",
              "    <tr>\n",
              "      <th>4</th>\n",
              "      <td>1956968416</td>\n",
              "      <td>neutral</td>\n",
              "      <td>xkilljoyx</td>\n",
              "      <td>@dannycastillo We want to trade with someone w...</td>\n",
              "    </tr>\n",
              "    <tr>\n",
              "      <th>5</th>\n",
              "      <td>1956968477</td>\n",
              "      <td>worry</td>\n",
              "      <td>xxxPEACHESxxx</td>\n",
              "      <td>Re-pinging @ghostridah14: why didn't you go to...</td>\n",
              "    </tr>\n",
              "    <tr>\n",
              "      <th>6</th>\n",
              "      <td>1956968487</td>\n",
              "      <td>sadness</td>\n",
              "      <td>ShansBee</td>\n",
              "      <td>I should be sleep, but im not! thinking about ...</td>\n",
              "    </tr>\n",
              "    <tr>\n",
              "      <th>7</th>\n",
              "      <td>1956968636</td>\n",
              "      <td>worry</td>\n",
              "      <td>mcsleazy</td>\n",
              "      <td>Hmmm. http://www.djhero.com/ is down</td>\n",
              "    </tr>\n",
              "    <tr>\n",
              "      <th>8</th>\n",
              "      <td>1956969035</td>\n",
              "      <td>sadness</td>\n",
              "      <td>nic0lepaula</td>\n",
              "      <td>@charviray Charlene my love. I miss you</td>\n",
              "    </tr>\n",
              "    <tr>\n",
              "      <th>9</th>\n",
              "      <td>1956969172</td>\n",
              "      <td>sadness</td>\n",
              "      <td>Ingenue_Em</td>\n",
              "      <td>@kelcouch I'm sorry  at least it's Friday?</td>\n",
              "    </tr>\n",
              "  </tbody>\n",
              "</table>\n",
              "</div>"
            ],
            "text/plain": [
              "     tweet_id  ...                                            content\n",
              "0  1956967341  ...  @tiffanylue i know  i was listenin to bad habi...\n",
              "1  1956967666  ...  Layin n bed with a headache  ughhhh...waitin o...\n",
              "2  1956967696  ...                Funeral ceremony...gloomy friday...\n",
              "3  1956967789  ...               wants to hang out with friends SOON!\n",
              "4  1956968416  ...  @dannycastillo We want to trade with someone w...\n",
              "5  1956968477  ...  Re-pinging @ghostridah14: why didn't you go to...\n",
              "6  1956968487  ...  I should be sleep, but im not! thinking about ...\n",
              "7  1956968636  ...               Hmmm. http://www.djhero.com/ is down\n",
              "8  1956969035  ...            @charviray Charlene my love. I miss you\n",
              "9  1956969172  ...         @kelcouch I'm sorry  at least it's Friday?\n",
              "\n",
              "[10 rows x 4 columns]"
            ]
          },
          "metadata": {
            "tags": []
          },
          "execution_count": 22
        }
      ]
    },
    {
      "cell_type": "markdown",
      "metadata": {
        "id": "bGaLRI1uy3MS",
        "colab_type": "text"
      },
      "source": [
        "## **Lemmatization Of DataSet**"
      ]
    },
    {
      "cell_type": "code",
      "metadata": {
        "id": "yWEH6bD5y6ff",
        "colab_type": "code",
        "colab": {}
      },
      "source": [
        "from nltk.stem.wordnet import WordNetLemmatizer \n",
        "lem = WordNetLemmatizer()"
      ],
      "execution_count": 0,
      "outputs": []
    },
    {
      "cell_type": "markdown",
      "metadata": {
        "id": "3MnFfIk5zR6T",
        "colab_type": "text"
      },
      "source": [
        "## **Pre-Processing of Data**"
      ]
    },
    {
      "cell_type": "code",
      "metadata": {
        "id": "OHiZVkNdzVRK",
        "colab_type": "code",
        "colab": {}
      },
      "source": [
        "def cleaning(text):\n",
        "    txt = str(text)\n",
        "    txt = re.sub(r\"http\\S+\", \"\", txt)\n",
        "    if len(txt) == 0:\n",
        "        return 'no text'\n",
        "    else:\n",
        "        txt = txt.split()\n",
        "        index = 0\n",
        "        for j in range(len(txt)):\n",
        "            if txt[j][0] == '@':\n",
        "                index = j\n",
        "        txt = np.delete(txt, index)\n",
        "        if len(txt) == 0:\n",
        "            return 'no text'\n",
        "        else:\n",
        "            words = txt[0]\n",
        "            for k in range(len(txt)-1):\n",
        "                words+= \" \" + txt[k+1]\n",
        "            txt = words\n",
        "            txt = re.sub(r'[^\\w]', ' ', txt)\n",
        "            if len(txt) == 0:\n",
        "                return 'no text'\n",
        "            else:\n",
        "                txt = ''.join(''.join(s)[:2] for _, s in itertools.groupby(txt))\n",
        "                txt = txt.replace(\"'\", \"\")\n",
        "                txt = nltk.tokenize.word_tokenize(txt)\n",
        "                #data.content[i] = [w for w in data.content[i] if not w in stopset]\n",
        "                for j in range(len(txt)):\n",
        "                    txt[j] = lem.lemmatize(txt[j], \"v\")\n",
        "                if len(txt) == 0:\n",
        "                    return 'no text'\n",
        "                else:\n",
        "                    return txt"
      ],
      "execution_count": 0,
      "outputs": []
    },
    {
      "cell_type": "markdown",
      "metadata": {
        "id": "2om1i1Jz0ulr",
        "colab_type": "text"
      },
      "source": [
        "## **Construction Of Words Dictionary**"
      ]
    },
    {
      "cell_type": "code",
      "metadata": {
        "id": "GenGzqce05pP",
        "colab_type": "code",
        "colab": {}
      },
      "source": [
        ""
      ],
      "execution_count": 0,
      "outputs": []
    }
  ]
}